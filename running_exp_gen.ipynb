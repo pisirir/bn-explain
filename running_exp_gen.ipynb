{
 "cells": [
  {
   "cell_type": "code",
   "execution_count": 1,
   "metadata": {},
   "outputs": [
    {
     "name": "stderr",
     "output_type": "stream",
     "text": [
      "R[write to console]: Loading required package: gRbase\n",
      "\n"
     ]
    }
   ],
   "source": [
    "from bnexplain.realisation import *\n",
    "from bnexplain.content_generation import *"
   ]
  },
  {
   "cell_type": "markdown",
   "metadata": {},
   "source": [
    "## TIC Model"
   ]
  },
  {
   "cell_type": "code",
   "execution_count": 2,
   "metadata": {},
   "outputs": [],
   "source": [
    "tic_bn = 'models/tic/TICMIL_Disc_No_Uncert.cmpx'\n",
    "tic_explanandum = 'models/tic/TICMIL_Disc_No_Uncert_explanandum_R.json'\n",
    "\n",
    "tic_case_one = {'Energy':'Low',\n",
    "            'MOI':'Blunt',\n",
    "            'Soft_Tissue_Injury_LL':'Mild',\n",
    "            'LB_Fracture_LL':'Yes',\n",
    "            'Damaged_LL_Artery':'No',\n",
    "            'Pelvic_Fracture':'No',\n",
    "            'Chest_Bleeding_Assessment':'Negative',\n",
    "            'Abdo_Bleeding_Assessment':'Negative',\n",
    "            'SBP_Disc':119,\n",
    "            'HR_Disc':90,\n",
    "            'GCS_Disc':15}\n",
    "\n",
    "tic_case_two = {'Energy':'High',\n",
    "            'MOI':'Explosion',\n",
    "            'Chest_Bleeding_Assessment':'Positive',\n",
    "            'Abdo_Bleeding_Assessment':'Positive',\n",
    "            'LB_Fracture_UL':'Yes',\n",
    "            'Damaged_UL_Artery':'Yes',\n",
    "            'Damaged_Neck_Artery':'Yes',\n",
    "            'SBP_Disc':70,\n",
    "            'HR_Disc':120,\n",
    "            'Temperature':'<34'}\n",
    "\n",
    "tic_schema = 'models/tic/tic_schema.json'"
   ]
  },
  {
   "cell_type": "code",
   "execution_count": 4,
   "metadata": {},
   "outputs": [
    {
     "name": "stdout",
     "output_type": "stream",
     "text": [
      "Explanation of prediction for this case:\n",
      "This patient has low risk of coagulopathy.\n",
      "\n",
      "This patient likely has no tissue injury burden and no hypoperfusion.\n",
      "\n",
      "Low risk is because this patient has low energy, blunt injury, good heart rate and normal GCS although this patient has mild degloving in lower limbs and long bone fracture in lower limbs.\n",
      "\n",
      "\n"
     ]
    }
   ],
   "source": [
    "tic_exp_example = explain_reasoning(bn = tic_bn,\n",
    "                  bn_type = 'discretised_continuous',\n",
    "                  explanandum = tic_explanandum,\n",
    "                  case = tic_case_one,\n",
    "                  schema = tic_schema)\n",
    "\n",
    "print(tic_exp_example)"
   ]
  },
  {
   "cell_type": "code",
   "execution_count": 5,
   "metadata": {},
   "outputs": [
    {
     "name": "stdout",
     "output_type": "stream",
     "text": [
      "Explanation of prediction for this case:\n",
      "This patient has decreased risk of coagulopathy.\n",
      "\n",
      "This patient likely has no tissue injury burden and no hypoperfusion.\n",
      "\n",
      "Decreased risk is because this patient has low energy, blunt injury, good heart rate and normal GCS although this patient has mild degloving in lower limbs and long bone fracture in lower limbs.\n",
      "\n",
      "\n"
     ]
    }
   ],
   "source": [
    "tic_exp_example = explain_reasoning(bn = tic_bn,\n",
    "                  bn_type = 'discretised_continuous',\n",
    "                  explanandum = tic_explanandum,\n",
    "                  case = tic_case_one,\n",
    "                  schema = tic_schema,\n",
    "                  category_type='probabilitychange')\n",
    "\n",
    "print(tic_exp_example)"
   ]
  },
  {
   "cell_type": "code",
   "execution_count": 6,
   "metadata": {},
   "outputs": [
    {
     "name": "stdout",
     "output_type": "stream",
     "text": [
      "Explanation of prediction for this case:\n",
      "This patient has very high risk of coagulopathy.\n",
      "\n",
      "This patient likely has severe tissue injury burden and uncompensated hypoperfusion.\n",
      "\n",
      "Very high risk is because this patient has injury, bleeding in chest, bleeding in abdomen, long bone fracture in upper limbs, arterial damage in upper limbs, low systolic blood pressure and low temperature.\n",
      "\n",
      "\n"
     ]
    }
   ],
   "source": [
    "tic_exp_example = explain_reasoning(bn = tic_bn,\n",
    "                  bn_type = 'discretised_continuous',\n",
    "                  explanandum = tic_explanandum,\n",
    "                  case = tic_case_two,\n",
    "                  schema = tic_schema,\n",
    "                  category_type='risk')\n",
    "\n",
    "print(tic_exp_example)"
   ]
  },
  {
   "cell_type": "code",
   "execution_count": 7,
   "metadata": {},
   "outputs": [
    {
     "name": "stdout",
     "output_type": "stream",
     "text": [
      "Explanation of prediction for this case:\n",
      "This patient has highly increased risk of coagulopathy.\n",
      "\n",
      "This patient likely has severe tissue injury burden and uncompensated hypoperfusion.\n",
      "\n",
      "Highly increased risk is because this patient has injury, bleeding in chest, bleeding in abdomen, long bone fracture in upper limbs, arterial damage in upper limbs, low systolic blood pressure and low temperature.\n",
      "\n",
      "\n"
     ]
    }
   ],
   "source": [
    "tic_exp_example = explain_reasoning(bn = tic_bn,\n",
    "                  bn_type = 'discretised_continuous',\n",
    "                  explanandum = tic_explanandum,\n",
    "                  case = tic_case_two,\n",
    "                  schema = tic_schema,\n",
    "                  category_type='probabilitychange')\n",
    "\n",
    "print(tic_exp_example)"
   ]
  },
  {
   "cell_type": "markdown",
   "metadata": {},
   "source": [
    "Below, we are running content and narrative functions separately to generate same results. This is preferable if multiple explanations will be generated on the same content (the content json is created once)"
   ]
  },
  {
   "cell_type": "code",
   "execution_count": 3,
   "metadata": {},
   "outputs": [],
   "source": [
    "tic_exp_bn = create_exp_bn_disc(tic_bn, tic_explanandum)\n",
    "\n",
    "tic_exp_content_one = generate_exp_content(tic_exp_bn, tic_case_one, 'models/tic/tic_content_case_1_frompython.json')\n",
    "tic_exp_content_two = generate_exp_content(tic_exp_bn, tic_case_two, 'models/tic/tic_content_case_2_frompython.json')"
   ]
  },
  {
   "cell_type": "code",
   "execution_count": 4,
   "metadata": {},
   "outputs": [],
   "source": [
    "tic_content_one = 'models/tic/tic_content_case_1_frompython.json'\n",
    "tic_content_two = 'models/tic/tic_content_case_2_frompython.json'"
   ]
  },
  {
   "cell_type": "code",
   "execution_count": 5,
   "metadata": {},
   "outputs": [
    {
     "name": "stdout",
     "output_type": "stream",
     "text": [
      "Explanation of prediction for this case:\n",
      "This patient has low risk of coagulopathy.\n",
      "\n",
      "This patient likely has no tissue injury burden and no hypoperfusion.\n",
      "\n",
      "Low risk is because this patient has low energy, blunt injury, good heart rate and normal GCS although this patient has mild degloving in lower limbs and long bone fracture in lower limbs.\n",
      "\n",
      "\n"
     ]
    }
   ],
   "source": [
    "tic_case_exp_one = generate_explanation(tic_content_one, tic_schema)\n",
    "print(tic_case_exp_one)"
   ]
  },
  {
   "cell_type": "code",
   "execution_count": 6,
   "metadata": {},
   "outputs": [
    {
     "name": "stdout",
     "output_type": "stream",
     "text": [
      "Explanation of prediction for this case:\n",
      "This patient has decreased risk of coagulopathy.\n",
      "\n",
      "This patient likely has no tissue injury burden and no hypoperfusion.\n",
      "\n",
      "Decreased risk is because this patient has low energy, blunt injury, good heart rate and normal GCS although this patient has mild degloving in lower limbs and long bone fracture in lower limbs.\n",
      "\n",
      "\n"
     ]
    }
   ],
   "source": [
    "tic_case_exp_two = generate_explanation(tic_content_one, tic_schema, category_type='probabilitychange')\n",
    "print(tic_case_exp_two)"
   ]
  },
  {
   "cell_type": "code",
   "execution_count": 7,
   "metadata": {},
   "outputs": [
    {
     "name": "stdout",
     "output_type": "stream",
     "text": [
      "Explanation of prediction for this case:\n",
      "This patient has very high risk of coagulopathy.\n",
      "\n",
      "This patient likely has severe tissue injury burden and uncompensated hypoperfusion.\n",
      "\n",
      "Very high risk is because this patient has injury, bleeding in chest, bleeding in abdomen, long bone fracture in upper limbs, arterial damage in upper limbs, low systolic blood pressure and low temperature.\n",
      "\n",
      "\n"
     ]
    }
   ],
   "source": [
    "tic_case_exp_three = generate_explanation(tic_content_two, tic_schema, category_type='risk')\n",
    "print(tic_case_exp_three)"
   ]
  },
  {
   "cell_type": "code",
   "execution_count": 8,
   "metadata": {},
   "outputs": [
    {
     "name": "stdout",
     "output_type": "stream",
     "text": [
      "Explanation of prediction for this case:\n",
      "This patient has highly increased risk of coagulopathy.\n",
      "\n",
      "This patient likely has severe tissue injury burden and uncompensated hypoperfusion.\n",
      "\n",
      "Highly increased risk is because this patient has injury, bleeding in chest, bleeding in abdomen, long bone fracture in upper limbs, arterial damage in upper limbs, low systolic blood pressure and low temperature.\n",
      "\n",
      "\n"
     ]
    }
   ],
   "source": [
    "tic_case_exp_four = generate_explanation(tic_content_two, tic_schema, category_type='probabilitychange')\n",
    "print(tic_case_exp_four)"
   ]
  },
  {
   "cell_type": "markdown",
   "metadata": {},
   "source": [
    "## MSK Model"
   ]
  },
  {
   "cell_type": "code",
   "execution_count": 8,
   "metadata": {},
   "outputs": [],
   "source": [
    "msk_bn = 'models/msk/bendi_bn.cmpx'\n",
    "msk_explanandum = 'models/msk/bendi_cancer_explanandum_R.json'\n",
    "\n",
    "msk_case = {'cancerstatus':'Previous cancer diagnosis',\n",
    "             'trauma':'None',\n",
    "             'systemicillness':'No',\n",
    "             'age':'65-80',\n",
    "             'infectionrisk':'Yes',\n",
    "             'bladderdisturbance':'No issues',\n",
    "             'boweldisturbance':'Yes',\n",
    "             'saddleanaesthesia':'No',\n",
    "             'inflammatorysigns':'No'}\n",
    "\n",
    "msk_schema = 'models/msk/msk_schema.json'\n"
   ]
  },
  {
   "cell_type": "code",
   "execution_count": 9,
   "metadata": {},
   "outputs": [
    {
     "name": "stdout",
     "output_type": "stream",
     "text": [
      "Explanation of prediction for this case:\n",
      "This patient has low risk of space occupying lesion (cancer).\n",
      "\n",
      "This patient likely has no cauda equina, no infective condition, fracture, no inflammatory condition, no nerve root, medium depression, moderate stress and low anxiety or fear.\n",
      "\n",
      "Low risk is because this patient has previous cancer diagnosis and bowel disturbance although this patient has 65-80 years old, infection risk and no bladder disturbance.\n",
      "\n",
      "\n"
     ]
    }
   ],
   "source": [
    "msk_exp_example = explain_reasoning(bn = msk_bn,\n",
    "                  bn_type = 'discrete',\n",
    "                  explanandum = msk_explanandum,\n",
    "                  case = msk_case,\n",
    "                  schema = msk_schema)\n",
    "\n",
    "print(msk_exp_example)"
   ]
  },
  {
   "cell_type": "code",
   "execution_count": 10,
   "metadata": {},
   "outputs": [
    {
     "name": "stdout",
     "output_type": "stream",
     "text": [
      "Explanation of prediction for this case:\n",
      "This patient has low risk of space occupying lesion (cancer).\n",
      "\n",
      "Alterrnative causes of state of this patient are infective condition and fracture.\n",
      "\n",
      "Low risk is because this patient has previous cancer diagnosis and bowel disturbance although this patient has 65-80 years old, infection risk and no bladder disturbance.\n",
      "\n",
      "\n"
     ]
    }
   ],
   "source": [
    "msk_exp_example = explain_reasoning(bn = msk_bn,\n",
    "                  bn_type = 'discrete',\n",
    "                  explanandum = msk_explanandum,\n",
    "                  case = msk_case,\n",
    "                  schema = msk_schema,\n",
    "                  intermediate_type='explainaway')\n",
    "\n",
    "print(msk_exp_example)"
   ]
  },
  {
   "cell_type": "markdown",
   "metadata": {},
   "source": [
    "Below, we are running content and narrative functions separately to generate same results. This is preferable if multiple explanations will be generated on the same content (the content json is created once)"
   ]
  },
  {
   "cell_type": "code",
   "execution_count": 10,
   "metadata": {},
   "outputs": [],
   "source": [
    "msk_exp_bn = create_exp_bn(msk_bn, msk_explanandum)\n",
    "\n",
    "msk_exp_content = generate_exp_content(msk_exp_bn, msk_case, 'models/msk/msk_content_case_1_frompython_test.json')"
   ]
  },
  {
   "cell_type": "code",
   "execution_count": 11,
   "metadata": {},
   "outputs": [],
   "source": [
    "msk_content = 'models/msk/msk_content_case_1_frompython.json'"
   ]
  },
  {
   "cell_type": "code",
   "execution_count": 12,
   "metadata": {},
   "outputs": [
    {
     "name": "stdout",
     "output_type": "stream",
     "text": [
      "Explanation of prediction for this case:\n",
      "This patient has low risk of space occupying lesion (cancer).\n",
      "\n",
      "This patient likely has no cauda equina, no infective condition, fracture, no inflammatory condition, no nerve root, medium depression, moderate stress and low anxiety or fear.\n",
      "\n",
      "Low risk is because this patient has previous cancer diagnosis and bowel disturbance although this patient has 65-80 years old, infection risk and no bladder disturbance.\n",
      "\n",
      "\n"
     ]
    }
   ],
   "source": [
    "msk_case_exp_bad = generate_explanation(msk_content, msk_schema)\n",
    "print(msk_case_exp_bad)"
   ]
  },
  {
   "cell_type": "code",
   "execution_count": 13,
   "metadata": {},
   "outputs": [
    {
     "name": "stdout",
     "output_type": "stream",
     "text": [
      "Explanation of prediction for this case:\n",
      "This patient has low risk of space occupying lesion (cancer).\n",
      "\n",
      "Alterrnative causes of state of this patient are infective condition and fracture.\n",
      "\n",
      "Low risk is because this patient has previous cancer diagnosis and bowel disturbance although this patient has 65-80 years old, infection risk and no bladder disturbance.\n",
      "\n",
      "\n"
     ]
    }
   ],
   "source": [
    "msk_case_exp_good = generate_explanation(msk_content, msk_schema, intermediate_type='explainaway')\n",
    "print(msk_case_exp_good)"
   ]
  },
  {
   "cell_type": "markdown",
   "metadata": {},
   "source": [
    "## Limb Model"
   ]
  },
  {
   "cell_type": "code",
   "execution_count": 11,
   "metadata": {},
   "outputs": [],
   "source": [
    "limb_bn = 'models/limb/limbAKA.cmpx'\n",
    "limb_explanandum = 'models/limb/limbAKA_explanandum_R.json'\n",
    "\n",
    "limb_case = {'Repair':'Graft',\n",
    "            'Mult':'Yes',\n",
    "            'Shock':'No',\n",
    "            'ST':'Severe',\n",
    "            'Isch_Degree':'Partial',\n",
    "            'Isch_Time':'L3',\n",
    "            'Assoc_Frac':'Yes',\n",
    "            'MOI':'Blunt',\n",
    "            'CS':'Yes'}\n",
    "\n",
    "limb_schema_amp = 'models/limb/limb_schema_amp.json'\n",
    "limb_schema_salv = 'models/limb/limb_schema_salv.json'"
   ]
  },
  {
   "cell_type": "code",
   "execution_count": 12,
   "metadata": {},
   "outputs": [
    {
     "name": "stdout",
     "output_type": "stream",
     "text": [
      "Explanation of prediction for this case:\n",
      "This patient has high risk of amputation.\n",
      "\n",
      "This patient likely has high soft tissue damage and high blood supply.\n",
      "\n",
      "High risk is because this patient has graft repair of arteries, multiple level of arterial injury, severe soft tissue injury and associated fracture although this patient has not been shocked.\n",
      "\n",
      "\n"
     ]
    }
   ],
   "source": [
    "limb_exp_example = explain_reasoning(bn = limb_bn,\n",
    "                  bn_type = 'discrete',\n",
    "                  explanandum = limb_explanandum,\n",
    "                  case = limb_case,\n",
    "                  schema = limb_schema_amp)\n",
    "\n",
    "print(limb_exp_example)"
   ]
  },
  {
   "cell_type": "code",
   "execution_count": 13,
   "metadata": {},
   "outputs": [
    {
     "name": "stdout",
     "output_type": "stream",
     "text": [
      "Explanation of prediction for this case:\n",
      "This patient has low probability of limb salvage.\n",
      "\n",
      "This patient likely has high soft tissue damage and high blood supply.\n",
      "\n",
      "Low probability is because this patient has graft repair of arteries, multiple level of arterial injury, severe soft tissue injury and associated fracture although this patient has not been shocked.\n",
      "\n",
      "\n"
     ]
    }
   ],
   "source": [
    "limb_exp_example = explain_reasoning(bn = limb_bn,\n",
    "                  bn_type = 'discrete',\n",
    "                  explanandum = limb_explanandum,\n",
    "                  case = limb_case,\n",
    "                  schema = limb_schema_salv)\n",
    "\n",
    "print(limb_exp_example)"
   ]
  },
  {
   "cell_type": "markdown",
   "metadata": {},
   "source": [
    "Below, we are running content and narrative functions separately to generate same results. This is preferable if multiple explanations will be generated on the same content (the content json is created once)"
   ]
  },
  {
   "cell_type": "code",
   "execution_count": 15,
   "metadata": {},
   "outputs": [],
   "source": [
    "limb_exp_bn = create_exp_bn_disc(limb_bn, limb_explanandum)\n",
    "\n",
    "limb_exp_content = generate_exp_content(limb_exp_bn, limb_case, 'models/limb/limb_content_case_1_frompython.json')"
   ]
  },
  {
   "cell_type": "code",
   "execution_count": 16,
   "metadata": {},
   "outputs": [],
   "source": [
    "limb_content = 'models/limb/limb_content_case_1_frompython.json'"
   ]
  },
  {
   "cell_type": "code",
   "execution_count": 17,
   "metadata": {},
   "outputs": [
    {
     "name": "stdout",
     "output_type": "stream",
     "text": [
      "Explanation of prediction for this case:\n",
      "This patient has high risk of amputation.\n",
      "\n",
      "This patient likely has high soft tissue damage and high blood supply.\n",
      "\n",
      "High risk is because this patient has graft repair of arteries, multiple level of arterial injury, severe soft tissue injury and associated fracture although this patient has not been shocked.\n",
      "\n",
      "\n"
     ]
    }
   ],
   "source": [
    "limb_case_exp_amp = generate_explanation(limb_content, limb_schema_amp, category_type='risk')\n",
    "print(limb_case_exp_amp)"
   ]
  },
  {
   "cell_type": "code",
   "execution_count": 18,
   "metadata": {},
   "outputs": [
    {
     "name": "stdout",
     "output_type": "stream",
     "text": [
      "Explanation of prediction for this case:\n",
      "This patient has low probability of limb salvage.\n",
      "\n",
      "This patient likely has high soft tissue damage and high blood supply.\n",
      "\n",
      "Low probability is because this patient has graft repair of arteries, multiple level of arterial injury, severe soft tissue injury and associated fracture although this patient has not been shocked.\n",
      "\n",
      "\n"
     ]
    }
   ],
   "source": [
    "limb_case_exp_salv = generate_explanation(limb_content, limb_schema_salv, category_type='probability')\n",
    "print(limb_case_exp_salv)"
   ]
  },
  {
   "cell_type": "markdown",
   "metadata": {},
   "source": [
    "## Survival BN"
   ]
  },
  {
   "cell_type": "code",
   "execution_count": 14,
   "metadata": {},
   "outputs": [],
   "source": [
    "surv_bn = 'models/surv/Survival_Discrete_v2.cmpx'\n",
    "surv_explanandum = 'models/surv/surv_explanandum_R.json'\n",
    "\n",
    "surv_case = {'aaa_Energy':'Low',\n",
    "            'bbb_MOI':'Blunt',\n",
    "            'iii_Soft_Tissue_Injury_LL':'Mild',\n",
    "            'hhh_LB_Fracture_LL':'Yes',\n",
    "            'qqq_Damaged_LL_Artery':'No',\n",
    "            'Pelvic_Fracture':'No',\n",
    "            'lll_chest_bl':'Negative',\n",
    "            'mmm_abdo_bl':'Negative',\n",
    "            'ttt_SBP':119,\n",
    "            'sss_HR':90,\n",
    "            'rrr_GCS':15}\n",
    "\n",
    "surv_schema = 'models/surv/surv_schema.json'"
   ]
  },
  {
   "cell_type": "code",
   "execution_count": 15,
   "metadata": {},
   "outputs": [
    {
     "name": "stdout",
     "output_type": "stream",
     "text": [
      "Explanation of prediction for this case:\n",
      "This patient has low risk of death.\n",
      "\n",
      "This patient likely has no death from TBI, no death from TIC and no death from TAKI.\n",
      "\n",
      "Low risk is because this patient has low energy, good heart rate and normal GCS although this patient has blunt injury and long bone fracture in lower limbs.\n",
      "\n",
      "\n"
     ]
    }
   ],
   "source": [
    "surv_exp_example = explain_reasoning(bn = surv_bn,\n",
    "                  bn_type = 'discretised_continuous',\n",
    "                  explanandum = surv_explanandum,\n",
    "                  case = surv_case,\n",
    "                  schema = surv_schema)\n",
    "\n",
    "print(surv_exp_example)"
   ]
  },
  {
   "cell_type": "code",
   "execution_count": 16,
   "metadata": {},
   "outputs": [
    {
     "name": "stdout",
     "output_type": "stream",
     "text": [
      "Explanation of prediction for this case:\n",
      "This patient has low risk of death.\n",
      "\n",
      "This patient likely has low risk of death from TBI, very low risk of death from TIC and low risk of death from TAKI.\n",
      "\n",
      "Low risk is because this patient has low energy, good heart rate and normal GCS although this patient has blunt injury and long bone fracture in lower limbs.\n",
      "\n",
      "\n"
     ]
    }
   ],
   "source": [
    "surv_exp_example = explain_reasoning(bn = surv_bn,\n",
    "                  bn_type = 'discretised_continuous',\n",
    "                  explanandum = surv_explanandum,\n",
    "                  case = surv_case,\n",
    "                  schema = surv_schema,\n",
    "                  intermediate_statement = 'riskcategory')\n",
    "\n",
    "print(surv_exp_example)"
   ]
  },
  {
   "cell_type": "markdown",
   "metadata": {},
   "source": [
    "Below, we are running content and narrative functions separately to generate same results. This is preferable if multiple explanations will be generated on the same content (the content json is created once)"
   ]
  },
  {
   "cell_type": "code",
   "execution_count": 20,
   "metadata": {},
   "outputs": [],
   "source": [
    "surv_exp_bn = create_exp_bn_disc(surv_bn, surv_explanandum)\n",
    "\n",
    "surv_exp_content = generate_exp_content(surv_exp_bn, surv_case, 'models/surv/surv_content_case_1_frompython.json')"
   ]
  },
  {
   "cell_type": "code",
   "execution_count": 21,
   "metadata": {},
   "outputs": [],
   "source": [
    "surv_content = 'models/surv/surv_content_case_1_frompython.json'"
   ]
  },
  {
   "cell_type": "code",
   "execution_count": 22,
   "metadata": {},
   "outputs": [
    {
     "name": "stdout",
     "output_type": "stream",
     "text": [
      "Explanation of prediction for this case:\n",
      "This patient has low risk of death.\n",
      "\n",
      "This patient likely has no death from TBI, no death from TIC and no death from TAKI.\n",
      "\n",
      "Low risk is because this patient has low energy, good heart rate and normal GCS although this patient has blunt injury and long bone fracture in lower limbs.\n",
      "\n",
      "\n"
     ]
    }
   ],
   "source": [
    "surv_case_exp_bad = generate_explanation(surv_content, surv_schema)\n",
    "print(surv_case_exp_bad)"
   ]
  },
  {
   "cell_type": "code",
   "execution_count": 23,
   "metadata": {},
   "outputs": [
    {
     "name": "stdout",
     "output_type": "stream",
     "text": [
      "Explanation of prediction for this case:\n",
      "This patient has low risk of death.\n",
      "\n",
      "This patient likely has low risk of death from TBI, very low risk of death from TIC and low risk of death from TAKI.\n",
      "\n",
      "Low risk is because this patient has low energy, good heart rate and normal GCS although this patient has blunt injury and long bone fracture in lower limbs.\n",
      "\n",
      "\n"
     ]
    }
   ],
   "source": [
    "surv_case_exp_good = generate_explanation(surv_content, surv_schema, intermediate_statement='riskcategory')\n",
    "print(surv_case_exp_good)"
   ]
  }
 ],
 "metadata": {
  "kernelspec": {
   "display_name": "Python 3",
   "language": "python",
   "name": "python3"
  },
  "language_info": {
   "codemirror_mode": {
    "name": "ipython",
    "version": 3
   },
   "file_extension": ".py",
   "mimetype": "text/x-python",
   "name": "python",
   "nbconvert_exporter": "python",
   "pygments_lexer": "ipython3",
   "version": "3.12.4"
  }
 },
 "nbformat": 4,
 "nbformat_minor": 2
}
